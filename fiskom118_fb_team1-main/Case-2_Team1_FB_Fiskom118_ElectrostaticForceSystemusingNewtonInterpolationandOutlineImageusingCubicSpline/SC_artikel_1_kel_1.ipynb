{
  "nbformat": 4,
  "nbformat_minor": 0,
  "metadata": {
    "colab": {
      "provenance": []
    },
    "kernelspec": {
      "name": "python3",
      "display_name": "Python 3"
    },
    "language_info": {
      "name": "python"
    }
  },
  "cells": [
    {
      "cell_type": "code",
      "source": [
        "import numpy as np\n",
        "import matplotlib.pyplot as plt\n",
        "\n",
        "def print_data():\n",
        "    print(\"Data yang didapat:\")\n",
        "    print(\"{:^5}  {:^5}\".format(\"x\", \"f(x)\"))\n",
        "    for i in range(len(x)):\n",
        "        print(\"{:^5.1f}  {:^5.3f}\".format(x[i], fx[i]))\n",
        "\n",
        "def divided_diff(f, x):\n",
        "    n = len(x)\n",
        "    for j in range(1, n):\n",
        "        for i in range(n-1, j-1, -1):\n",
        "            f[i] = (f[i] - f[i-1]) / (x[i] - x[i-j])\n",
        "    return f\n",
        "\n",
        "def eval_newton(x, f, xa):\n",
        "    n = len(x) - 1\n",
        "    res = f[n]\n",
        "    for i in range(n-1, -1, -1):\n",
        "        res = res * (xa - x[i]) + f[i]\n",
        "    return res\n",
        "\n",
        "x = np.array([0.1, 0.3, 0.5, 0.7, 0.9])\n",
        "fx = np.array([0.028, 0.065, 0.146, 0.247, 0.368])\n",
        "\n",
        "print_data()\n",
        "\n",
        "f = np.copy(fx)\n",
        "divided_diff(f, x)\n",
        "\n",
        "xa = float(input(\"Masukkan nilai x untuk dihitung: \"))\n",
        "fxa = eval_newton(x, f, xa)\n",
        "\n",
        "plt.plot(x, fx)\n",
        "plt.plot(xa, fxa, 'ro')\n",
        "plt.xlabel('Distance (m)')\n",
        "plt.ylabel('Force (N)')\n",
        "plt.show()\n",
        "\n",
        "print(\"Hasil perhitungan:\")\n",
        "print(\"f({:.1f}) = {:.3f}\".format(xa, fxa))\n"
      ],
      "metadata": {
        "colab": {
          "base_uri": "https://localhost:8080/",
          "height": 453
        },
        "id": "hKR5r5evy-l4",
        "outputId": "dd783955-731d-431e-a2d4-d161b2d08351"
      },
      "execution_count": 3,
      "outputs": [
        {
          "name": "stdout",
          "output_type": "stream",
          "text": [
            "Data yang didapat:\n",
            "  x    f(x) \n",
            " 0.1   0.028\n",
            " 0.3   0.065\n",
            " 0.5   0.146\n",
            " 0.7   0.247\n",
            " 0.9   0.368\n",
            "Masukkan nilai x untuk dihitung: 0.8\n"
          ]
        },
        {
          "output_type": "display_data",
          "data": {
            "text/plain": [
              "<Figure size 432x288 with 1 Axes>"
            ],
            "image/png": "[encoded data removed]"
          },
          "metadata": {
            "needs_background": "light"
          }
        },
        {
          "output_type": "stream",
          "name": "stdout",
          "text": [
            "Hasil perhitungan:\n",
            "f(0.8) = 0.304\n"
          ]
        }
      ]
    },
    {
      "cell_type": "code",
      "source": [],
      "metadata": {
        "id": "mtJyTObA8xG5"
      },
      "execution_count": null,
      "outputs": []
    }
  ]
}