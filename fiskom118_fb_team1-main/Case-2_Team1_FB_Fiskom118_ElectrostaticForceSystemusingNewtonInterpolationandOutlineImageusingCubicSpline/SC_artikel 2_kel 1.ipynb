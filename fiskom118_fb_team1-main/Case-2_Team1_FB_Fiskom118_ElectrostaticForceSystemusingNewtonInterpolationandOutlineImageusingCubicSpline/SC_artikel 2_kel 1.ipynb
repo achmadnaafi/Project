kelompok = """
Case Base 2
Cubic Spline
Kelompok 1
"""
print(kelompok)

from numpy import*
import numpy
import matplotlib.pylab as plt

x = [  56.6,   63.7,  163.6,  279.5,  335.7,  384.7,  420.4,  448.3,  465.2,  490.5,  549.5,  644.5,  708.5,  747.0,  784.8,  789.1,  803.5,  818.0,  828.9,
      853.5,  864.8,  871.8,  871.9,  914.0,  914.5,  941.5,  944.5]
y = [-895.3, -869.4, -823.2, -832.3, -835.5, -823.3, -801.0, -775.1, -741.6, -631.0, -527.1, -431.4, -328.9, -222.7, -160.4, -117.6, -101.6, -115.6, -144.5,
     -119.2, -113.6, -124.5, -155.4, -180.1, -208.1, -224.2, -235.1]
n = len(x)-1

print('Tabel Data Perhitungan', '\n', '\t', 'j', '\t', 'x(j)', '\t', 'a(j)', '\t', 'b(j)', '\t', 'c(j)', '\t', 'd(j)')
a   = [y[i] for i in range(n+1)]
h   = [x[i+1]-x[i] for i in range(n)]
alp = [3*((y[i+1]-y[i])/h[i]-(y[i]-y[i-1])/h[i-1]) for i in range(1, n)]
alp.insert(0, 0)

l   = [1]*(n+1)
miu = [0]*(n+1)
z   = [0]*(n+1)

for i in range(1, n, 1):
    l[i]   = (2*(x[i+1]-x[i-1]))-(h[i-1]*miu[i-1])
    miu[i] = h[i]/l[i]
    z[i]   = (alp[i]-h[i-1]*z[i-1])/l[i]

b = [0]*(n+1)
c = [0]*(n+1)
d = [0]*(n+1)

for j in range(n-1, -1, -1):
    c[j] = z[j]-miu[j]*c[j+1]
    b[j] = (a[j+1]-a[j])/h[j]-(h[j]*(c[j+1]+2*c[j]))/3
    d[j] = (c[j+1]-c[j])/(3*h[j])

print('\t', 'j', '\t', 'x', '\t', 'a', '\t', 'b', '\t', 'c', '\t', 'd')

for j in range (0, n):
    print('\t', j, '\t', x[j], '\t', a[j], '\t', b[j], '\t', c[j], '\t', d[j])
    
print('\t', n, '\t', x[n], '\t', a[n])

m = int(input("Masukkan banyaknya titik dalam selang : "))
print('\n', 'Hasil interpolasi titik')
print('x', '\t','S')

bb = 0
ba = 0
xl = 0
S  = 0

for j in range(0, n):
    bb = x[j]
    ba = x[j+1]

    for i in range(0, m+1):
        xl = bb+((i*(ba-bb))/m)
        S  = a[j]+(b[j]*(xl-x[j]))+(c[j]*(xl-x[j]))+(d[j]*(xl-x[j]))

        print(xl, '\t', S)

plt.plot(x, y, 'r', xl, S)
plt.title('Cubic Spline')
plt.xlabel('x')
plt.ylabel('e^x')
plt.show()
