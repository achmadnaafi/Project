{
  "cells": [
    {
      "cell_type": "markdown",
      "metadata": {
        "id": "0e-H-d1zzY6H"
      },
      "source": [
        "**Projek 1**\n",
        "\n",
        "\n",
        "Kelompok 1\n",
        "\n",
        "Disusun oleh:  \n",
        "Achmad Fadhlih Saldy Saputra (1306621060)  \n",
        "Achmad Nurnaafi (1306620057)  \n",
        "Haryanto (1306620059)  \n",
        "Yohanes Radito Putra (1306620048)\n"
      ]
    },
    {
      "cell_type": "markdown",
      "source": [
        "---\n",
        "Metode Dekomposisi LU\n",
        "---"
      ],
      "metadata": {
        "id": "pt0RcIAmQmpQ"
      }
    },
    {
      "cell_type": "code",
      "source": [
        "import numpy as np\n",
        "from scipy.linalg import lu_factor, lu_solve\n",
        "\n",
        "A = np.array([[ 3600,  0,    0,     0,     -4000  ],\n",
        "              [ -3600, 3600, 0,     0,     0      ],\n",
        "              [ 0,    -3600, 3600,  0,     0      ],\n",
        "              [ 0,     0,    -3600, 3600,  0      ],\n",
        "              [ 0,     0,    0,     -3600, -400   ]])\n",
        "B = np.array([-40, 0, 0, 0, 0])\n",
        "\n",
        "n = A.shape[0]\n",
        "\n",
        "# Inisialisasi matriks L dan U dengan nol\n",
        "L = np.zeros((n, n))\n",
        "U = np.zeros((n, n))\n",
        "\n",
        "# Iterasi untuk menghitung matriks L dan U\n",
        "for k in range(n):\n",
        "    L[k, k] = 1.0\n",
        "    for i in range(k+1):\n",
        "        U[i, k] = A[i, k] - np.dot(L[i, :i], U[:i, k])\n",
        "    for i in range(k+1, n):\n",
        "        L[i, k] = (A[i, k] - np.dot(L[i, :k], U[:k, k])) / U[k, k]\n",
        "\n",
        "# Menyelesaikan sistem persamaan linear Ax = B\n",
        "LU, piv = lu_factor(A)\n",
        "c = lu_solve((LU, piv), B, overwrite_b=True)\n",
        "\n",
        "print(\"Matriks A:\")\n",
        "print(A)\n",
        "print()\n",
        "\n",
        "print(\"Matriks L:\")\n",
        "print(L)\n",
        "print()\n",
        "\n",
        "print(\"Matriks U:\")\n",
        "print(U)\n",
        "print()\n",
        "\n",
        "print(\"Matriks B:\")\n",
        "print(B)\n",
        "print()\n",
        "\n",
        "print(\"Hasil:\")\n",
        "print(c)\n"
      ],
      "metadata": {
        "colab": {
          "base_uri": "https://localhost:8080/"
        },
        "id": "hktocywkQlkK",
        "outputId": "11c7e48a-52f5-4dd0-acf1-a72148703846"
      },
      "execution_count": null,
      "outputs": [
        {
          "output_type": "stream",
          "name": "stdout",
          "text": [
            "Matriks A:\n",
            "[[ 3600     0     0     0 -4000]\n",
            " [-3600  3600     0     0     0]\n",
            " [    0 -3600  3600     0     0]\n",
            " [    0     0 -3600  3600     0]\n",
            " [    0     0     0 -3600  -400]]\n",
            "\n",
            "Matriks L:\n",
            "[[ 1.  0.  0.  0.  0.]\n",
            " [-1.  1.  0.  0.  0.]\n",
            " [ 0. -1.  1.  0.  0.]\n",
            " [ 0.  0. -1.  1.  0.]\n",
            " [ 0.  0.  0. -1.  1.]]\n",
            "\n",
            "Matriks U:\n",
            "[[ 3600.     0.     0.     0. -4000.]\n",
            " [    0.  3600.     0.     0. -4000.]\n",
            " [    0.     0.  3600.     0. -4000.]\n",
            " [    0.     0.     0.  3600. -4000.]\n",
            " [    0.     0.     0.     0. -4400.]]\n",
            "\n",
            "Matriks B:\n",
            "[-40   0   0   0   0]\n",
            "\n",
            "Hasil:\n",
            "[-0.0010101  -0.0010101  -0.0010101  -0.0010101   0.00909091]\n"
          ]
        }
      ]
    },
    {
      "cell_type": "markdown",
      "source": [
        "---\n",
        "Metode Gauss Naive\n",
        "---"
      ],
      "metadata": {
        "id": "87tdDB9BQ5cT"
      }
    },
    {
      "cell_type": "code",
      "source": [
        "kelompok = \"\"\"\n",
        "Metode Gauss Naive\n",
        "Kelompok 1\n",
        "\"\"\"\n",
        "print(kelompok)\n",
        "\n",
        "import numpy as np\n",
        "import sys\n",
        "\n",
        "# Matriks koefisien\n",
        "A = np.array([[ 3600,  0,    0,     0,     -4000  ],\n",
        "              [ -3600, 3600, 0,     0,     0      ],\n",
        "              [ 0,    -3600, 3600,  0,     0      ],\n",
        "              [ 0,     0,    -3600, 3600,  0      ],\n",
        "              [ 0,     0,    0,     -3600, -400   ]])\n",
        "\n",
        "# Vektor hasil\n",
        "b = np.array([-40, 0, 0, 0, 0])\n",
        "\n",
        "# Jumlah variabel\n",
        "n = len(b)\n",
        "\n",
        "# Matriks gabungan A dan b\n",
        "AB = np.concatenate((A, np.reshape(b, (n, 1))), axis=1)\n",
        "\n",
        "# Menampilkan matriks A, b, dan gabungan AB\n",
        "print(\"Matriks A:\\n\", A, \"\\nVektor b:\\n\", b, \"\\n\")\n",
        "print(\"Matriks gabungan:\\n\", AB)\n",
        "\n",
        "# Inisialisasi vektor solusi\n",
        "c = np.zeros(n)\n",
        "\n",
        "# Eliminasi Gauss\n",
        "for i in range(n):\n",
        "    # Cek apakah terdapat pembagian dengan nol\n",
        "    if AB[i][i] == 0.0:\n",
        "        sys.exit('Terdeteksi pembagian dengan nol')\n",
        "\n",
        "    for j in range(i+1, n):\n",
        "        # Rasio pengurangan baris\n",
        "        ratio = AB[j][i]/AB[i][i]\n",
        "\n",
        "        for k in range(n+1):\n",
        "            # Pengurangan baris\n",
        "            AB[j][k] = AB[j][k] - ratio * AB[i][k]\n",
        "\n",
        "# Substitusi mundur\n",
        "c[n-1] = AB[n-1][n]/AB[n-1][n-1]\n",
        "\n",
        "for i in range(n-2,-1,-1):\n",
        "    c[i] = AB[i][n]\n",
        "\n",
        "    for j in range(i+1,n):\n",
        "        c[i] = c[i] - AB[i][j]*c[j]\n",
        "\n",
        "    c[i] = c[i]/AB[i][i]\n",
        "\n",
        "# Menampilkan solusi\n",
        "print(\"hasil: \")\n",
        "print(c)\n"
      ],
      "metadata": {
        "colab": {
          "base_uri": "https://localhost:8080/"
        },
        "id": "b9bgo-g1ANj2",
        "outputId": "58e40913-e1c9-4d5c-8d5b-bb5c0a7ee9c3"
      },
      "execution_count": null,
      "outputs": [
        {
          "output_type": "stream",
          "name": "stdout",
          "text": [
            "\n",
            "Metode Gauss Naive\n",
            "Kelompok 1\n",
            "\n",
            "Matriks A:\n",
            " [[ 3600     0     0     0 -4000]\n",
            " [-3600  3600     0     0     0]\n",
            " [    0 -3600  3600     0     0]\n",
            " [    0     0 -3600  3600     0]\n",
            " [    0     0     0 -3600  -400]] \n",
            "Vektor b:\n",
            " [-40   0   0   0   0] \n",
            "\n",
            "Matriks gabungan:\n",
            " [[ 3600     0     0     0 -4000   -40]\n",
            " [-3600  3600     0     0     0     0]\n",
            " [    0 -3600  3600     0     0     0]\n",
            " [    0     0 -3600  3600     0     0]\n",
            " [    0     0     0 -3600  -400     0]]\n",
            "hasil: \n",
            "[-0.0010101  -0.0010101  -0.0010101  -0.0010101   0.00909091]\n"
          ]
        }
      ]
    },
    {
      "cell_type": "markdown",
      "source": [
        "---\n",
        "Metode Gauss-Jordan\n",
        "---"
      ],
      "metadata": {
        "id": "Z2elyA3fWOYD"
      }
    },
    {
      "cell_type": "code",
      "source": [
        "kelompok = \"\"\"\n",
        "Metode Gauss-Jordan\n",
        "Kelompok 1\n",
        "\"\"\"\n",
        "print(kelompok)\n",
        "\n",
        "import numpy as np\n",
        "\n",
        "# definisikan matriks A dan b\n",
        "A = np.array([[ 3600,  0,    0,     0,     -4000  ],\n",
        "              [ -3600, 3600, 0,     0,     0      ],\n",
        "              [ 0,    -3600, 3600,  0,     0      ],\n",
        "              [ 0,     0,    -3600, 3600,  0      ],\n",
        "              [ 0,     0,    0,     -3600, -400   ]], float)\n",
        "b = np.array([-40, 0, 0, 0, 0], float)\n",
        "\n",
        "# gabungkan matriks A dan vektor b\n",
        "AB = np.hstack((A, b.reshape(-1, 1)))\n",
        "\n",
        "# tampilkan matriks awal\n",
        "print(\"Matriks A:\")\n",
        "print(A)\n",
        "print()\n",
        "print(\"Matriks B:\")\n",
        "print(b)\n",
        "print()\n",
        "print(\"Matriks gabungan A dan B:\")\n",
        "print()\n",
        "print(AB)\n",
        "\n",
        "# proses eliminasi Gauss-Jordan\n",
        "n = len(b)\n",
        "for i in range(n):\n",
        "    # membuat leading coefficient menjadi 1\n",
        "    faktor = AB[i,i]\n",
        "    AB[i] /= faktor\n",
        "    \n",
        "    # eliminasi ke bawah\n",
        "    for j in range(i+1, n):\n",
        "        faktor = AB[j,i] / AB[i,i]\n",
        "        AB[j] -= faktor * AB[i]\n",
        "    \n",
        "    # eliminasi ke atas\n",
        "    for j in range(i):\n",
        "        faktor = AB[j,i] / AB[i,i]\n",
        "        AB[j] -= faktor * AB[i]\n",
        "\n",
        "# solusi\n",
        "c = AB[:, -1]\n",
        "print()\n",
        "print(\"hasil:\")\n",
        "print(c)\n"
      ],
      "metadata": {
        "colab": {
          "base_uri": "https://localhost:8080/"
        },
        "id": "E1pyTgfVWR74",
        "outputId": "1bb2c04f-0512-447b-d596-a484101ad699"
      },
      "execution_count": null,
      "outputs": [
        {
          "output_type": "stream",
          "name": "stdout",
          "text": [
            "\n",
            "Metode Gauss-Jordan\n",
            "Kelompok 1\n",
            "\n",
            "Matriks A:\n",
            "[[ 3600.     0.     0.     0. -4000.]\n",
            " [-3600.  3600.     0.     0.     0.]\n",
            " [    0. -3600.  3600.     0.     0.]\n",
            " [    0.     0. -3600.  3600.     0.]\n",
            " [    0.     0.     0. -3600.  -400.]]\n",
            "\n",
            "Matriks B:\n",
            "[-40.   0.   0.   0.   0.]\n",
            "\n",
            "Matriks gabungan A dan B:\n",
            "\n",
            "[[ 3600.     0.     0.     0. -4000.   -40.]\n",
            " [-3600.  3600.     0.     0.     0.     0.]\n",
            " [    0. -3600.  3600.     0.     0.     0.]\n",
            " [    0.     0. -3600.  3600.     0.     0.]\n",
            " [    0.     0.     0. -3600.  -400.     0.]]\n",
            "\n",
            "hasil:\n",
            "[-0.0010101  -0.0010101  -0.0010101  -0.0010101   0.00909091]\n"
          ]
        }
      ]
    },
    {
      "cell_type": "markdown",
      "source": [
        "---\n",
        "Metode invers balikan\n",
        "---"
      ],
      "metadata": {
        "id": "R5--69jrcMZA"
      }
    },
    {
      "cell_type": "code",
      "source": [
        "kelompok = \"\"\"\n",
        "Metode Matrix Balikan\n",
        "Kelompok 1\n",
        "\"\"\"\n",
        "print(kelompok)\n",
        "\n",
        "import numpy as np\n",
        "\n",
        "# definisikan matriks A dan b\n",
        "A = np.array([[ 3600,  0,    0,     0,     -4000  ],\n",
        "              [ -3600, 3600, 0,     0,     0      ],\n",
        "              [ 0,    -3600, 3600,  0,     0      ],\n",
        "              [ 0,     0,    -3600, 3600,  0      ],\n",
        "              [ 0,     0,    0,     -3600, -400   ]], float)\n",
        "b = np.array([-40, 0, 0, 0, 0], float)\n",
        "\n",
        "# tampilkan matriks awal\n",
        "print(\"Matriks awal:\")\n",
        "print(A)\n",
        "print()\n",
        "\n",
        "# hitung invers matriks A\n",
        "A_inv = np.linalg.inv(A)\n",
        "\n",
        "# tampilkan invers matriks A\n",
        "print(\"Invers matriks A:\")\n",
        "for row in A_inv:\n",
        "    print(\"[\", \"  \".join([f\"{elem:8.5f}\" for elem in row]), \"]\")\n",
        "print()\n",
        "\n",
        "# hitung solusi x\n",
        "x = A_inv.dot(b)\n",
        "print(\"Solusinya:\")\n",
        "print(x)\n"
      ],
      "metadata": {
        "colab": {
          "base_uri": "https://localhost:8080/"
        },
        "id": "HcQF99zmcLrY",
        "outputId": "56e30a75-e4b3-4852-9798-bb7ddfc41058"
      },
      "execution_count": null,
      "outputs": [
        {
          "output_type": "stream",
          "name": "stdout",
          "text": [
            "\n",
            "Metode Matrix Balikan\n",
            "Kelompok 1\n",
            "\n",
            "Matriks awal:\n",
            "[[ 3600.     0.     0.     0. -4000.]\n",
            " [-3600.  3600.     0.     0.     0.]\n",
            " [    0. -3600.  3600.     0.     0.]\n",
            " [    0.     0. -3600.  3600.     0.]\n",
            " [    0.     0.     0. -3600.  -400.]]\n",
            "\n",
            "Invers matriks A:\n",
            "[  0.00003  -0.00025  -0.00025  -0.00025  -0.00025 ]\n",
            "[  0.00003   0.00003  -0.00025  -0.00025  -0.00025 ]\n",
            "[  0.00003   0.00003   0.00003  -0.00025  -0.00025 ]\n",
            "[  0.00003   0.00003   0.00003   0.00003  -0.00025 ]\n",
            "[ -0.00023  -0.00023  -0.00023  -0.00023  -0.00023 ]\n",
            "\n",
            "Solusinya:\n",
            "[-0.0010101  -0.0010101  -0.0010101  -0.0010101   0.00909091]\n"
          ]
        }
      ]
    }
  ],
  "metadata": {
    "interpreter": {
      "hash": "82ab6ea7d41c6101aa9ee3e76723a8a485cacd6223ce7738013d4628a1225ff5"
    },
    "kernelspec": {
      "display_name": "Python 3.9.7 64-bit",
      "language": "python",
      "name": "python3"
    },
    "language_info": {
      "codemirror_mode": {
        "name": "ipython",
        "version": 3
      },
      "file_extension": ".py",
      "mimetype": "text/x-python",
      "name": "python",
      "nbconvert_exporter": "python",
      "pygments_lexer": "ipython3",
      "version": "3.9.6"
    },
    "orig_nbformat": 4,
    "colab": {
      "provenance": []
    }
  },
  "nbformat": 4,
  "nbformat_minor": 0
}